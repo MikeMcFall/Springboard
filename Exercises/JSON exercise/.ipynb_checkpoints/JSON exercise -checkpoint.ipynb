{
 "cells": [
  {
   "cell_type": "markdown",
   "metadata": {},
   "source": [
    "****\n",
    "## JSON exercise\n",
    "\n",
    "Using data in file 'data/world_bank_projects.json' and the techniques demonstrated above,\n",
    "1. Find the 10 countries with most projects\n",
    "2. Find the top 10 major project themes (using column 'mjtheme_namecode')\n",
    "3. In 2. above you will notice that some entries have only the code and the name is missing. Create a dataframe with the missing names filled in."
   ]
  },
  {
   "cell_type": "code",
   "execution_count": 1,
   "metadata": {},
   "outputs": [],
   "source": [
    "import pandas as pd\n",
    "import numpy as np\n",
    "import json"
   ]
  },
  {
   "cell_type": "code",
   "execution_count": 2,
   "metadata": {},
   "outputs": [],
   "source": [
    "json_file = 'data/world_bank_projects.json'"
   ]
  },
  {
   "cell_type": "code",
   "execution_count": 3,
   "metadata": {},
   "outputs": [],
   "source": [
    "json_data = json.load(open(json_file))\n",
    "df = pd.io.json.json_normalize(json_data)"
   ]
  },
  {
   "cell_type": "markdown",
   "metadata": {},
   "source": [
    "---\n",
    "# Question 1"
   ]
  },
  {
   "cell_type": "code",
   "execution_count": 4,
   "metadata": {},
   "outputs": [
    {
     "data": {
      "text/plain": [
       "People's Republic of China         19\n",
       "Republic of Indonesia              19\n",
       "Socialist Republic of Vietnam      17\n",
       "Republic of India                  16\n",
       "Republic of Yemen                  13\n",
       "Nepal                              12\n",
       "People's Republic of Bangladesh    12\n",
       "Kingdom of Morocco                 12\n",
       "Africa                             11\n",
       "Republic of Mozambique             11\n",
       "Name: countryname, dtype: int64"
      ]
     },
     "execution_count": 4,
     "metadata": {},
     "output_type": "execute_result"
    }
   ],
   "source": [
    "df['countryname'].value_counts().head(10)"
   ]
  },
  {
   "cell_type": "markdown",
   "metadata": {},
   "source": [
    "---\n",
    "# Question 2"
   ]
  },
  {
   "cell_type": "code",
   "execution_count": 5,
   "metadata": {},
   "outputs": [],
   "source": [
    "from collections import Counter, defaultdict"
   ]
  },
  {
   "cell_type": "code",
   "execution_count": 6,
   "metadata": {},
   "outputs": [
    {
     "name": "stdout",
     "output_type": "stream",
     "text": [
      "11: Environment and natural resources management - 250\n",
      "10: Rural development - 216\n",
      "8: Human development - 210\n",
      "2: Public sector governance - 199\n",
      "6: Social protection and risk management - 168\n",
      "4: Financial and private sector development - 146\n",
      "7: Social dev/gender/inclusion - 130\n",
      "5: Trade and integration - 77\n",
      "9: Urban development - 50\n",
      "1: Economic management - 38\n"
     ]
    }
   ],
   "source": [
    "count_code = Counter()\n",
    "count_name = Counter()\n",
    "ddict = defaultdict(str)\n",
    "for row in df['mjtheme_namecode']:\n",
    "    for y in row:\n",
    "        count_code[y['code']] += 1\n",
    "        count_name[y['name']] += 1\n",
    "        if y['name'] != '':\n",
    "            ddict[y['code']] = y['name']\n",
    "            \n",
    "for k, v in count_code.most_common(10):\n",
    "    print(k + ': ' + ddict[k] + ' - ' + str(v))"
   ]
  },
  {
   "cell_type": "markdown",
   "metadata": {},
   "source": [
    "---\n",
    "# Question 3"
   ]
  },
  {
   "cell_type": "code",
   "execution_count": 7,
   "metadata": {
    "scrolled": true
   },
   "outputs": [],
   "source": [
    "def fill_missing_names(x):\n",
    "    for y in x:\n",
    "        if y['name'] == '':\n",
    "            y['name'] = ddict[y['code']]\n",
    "    return x\n",
    "\n",
    "df['mjtheme_namecode'] = df['mjtheme_namecode'].apply(fill_missing_names)"
   ]
  }
 ],
 "metadata": {
  "kernelspec": {
   "display_name": "Python 3",
   "language": "python",
   "name": "python3"
  },
  "language_info": {
   "codemirror_mode": {
    "name": "ipython",
    "version": 3
   },
   "file_extension": ".py",
   "mimetype": "text/x-python",
   "name": "python",
   "nbconvert_exporter": "python",
   "pygments_lexer": "ipython3",
   "version": "3.7.3"
  }
 },
 "nbformat": 4,
 "nbformat_minor": 2
}
