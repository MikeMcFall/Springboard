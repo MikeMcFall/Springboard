{
 "cells": [
  {
   "cell_type": "code",
   "execution_count": 1,
   "metadata": {},
   "outputs": [],
   "source": [
    "import math\n",
    "import pandas as pd\n",
    "import numpy as np\n",
    "import matplotlib.pyplot as plt\n",
    "import seaborn as sns\n",
    "from sklearn.preprocessing import RobustScaler, PolynomialFeatures\n",
    "from sklearn.model_selection import train_test_split, learning_curve, validation_curve\n",
    "from sklearn.model_selection import GridSearchCV, RandomizedSearchCV\n",
    "from sklearn.linear_model import LinearRegression, LassoCV, RidgeCV, ElasticNetCV\n",
    "from sklearn.ensemble import BaggingRegressor, RandomForestRegressor, GradientBoostingRegressor\n",
    "from sklearn.metrics import make_scorer, mean_squared_error, r2_score\n",
    "from yellowbrick.regressor import ResidualsPlot"
   ]
  },
  {
   "cell_type": "code",
   "execution_count": 2,
   "metadata": {},
   "outputs": [],
   "source": [
    "df = pd.read_pickle('Data/Capstone_Milestone.pkl')\n",
    "df = df.reset_index(level='State')\n",
    "df['State'] = df['State'].astype('category')\n",
    "df = pd.get_dummies(df, drop_first=True)\n",
    "X = df.drop(df.columns[1:5], axis=1)\n",
    "y = df.iloc[:, 4].copy()"
   ]
  },
  {
   "cell_type": "code",
   "execution_count": 3,
   "metadata": {},
   "outputs": [],
   "source": [
    "# I ran this once to create the holdout sets and save them. This way rerunning the notebook should give similar results.\n",
    "\n",
    "# X_train, X_holdout, y_train, y_holdout = train_test_split(X, y, test_size=0.3)\n",
    "# X_test, X_final, y_test, y_final = train_test_split(X_holdout, y_holdout, test_size=0.5)\n",
    "\n",
    "# X_train.to_pickle('Data/X_train.pkl')\n",
    "# X_test.to_pickle('Data/X_test.pkl')\n",
    "# X_final.to_pickle('Data/X_final.pkl')\n",
    "# y_train.to_pickle('Data/y_train.pkl')\n",
    "# y_test.to_pickle('Data/y_test.pkl')\n",
    "# y_final.to_pickle('Data/y_final.pkl')"
   ]
  },
  {
   "cell_type": "code",
   "execution_count": 4,
   "metadata": {},
   "outputs": [],
   "source": [
    "X_train = pd.read_pickle('Data/X_train.pkl')\n",
    "X_test = pd.read_pickle('Data/X_test.pkl')\n",
    "X_final = pd.read_pickle('Data/X_final.pkl')\n",
    "y_train = pd.read_pickle('Data/y_train.pkl')\n",
    "y_test = pd.read_pickle('Data/y_test.pkl')\n",
    "y_final = pd.read_pickle('Data/y_final.pkl')"
   ]
  },
  {
   "cell_type": "code",
   "execution_count": 5,
   "metadata": {},
   "outputs": [],
   "source": [
    "# For the linear regressions, the features should be scaled.\n",
    "scaler = RobustScaler()\n",
    "X_lin_train = scaler.fit_transform(X_train)\n",
    "X_lin_test = scaler.transform(X_test)"
   ]
  },
  {
   "cell_type": "code",
   "execution_count": 6,
   "metadata": {},
   "outputs": [],
   "source": [
    "def rmse_score(reg, X, y):\n",
    "    y_pred = reg.predict(X)\n",
    "    return math.sqrt(mean_squared_error(y, y_pred))"
   ]
  },
  {
   "cell_type": "code",
   "execution_count": 7,
   "metadata": {},
   "outputs": [
    {
     "data": {
      "text/html": [
       "<div>\n",
       "<style scoped>\n",
       "    .dataframe tbody tr th:only-of-type {\n",
       "        vertical-align: middle;\n",
       "    }\n",
       "\n",
       "    .dataframe tbody tr th {\n",
       "        vertical-align: top;\n",
       "    }\n",
       "\n",
       "    .dataframe thead th {\n",
       "        text-align: right;\n",
       "    }\n",
       "</style>\n",
       "<table border=\"1\" class=\"dataframe\">\n",
       "  <thead>\n",
       "    <tr style=\"text-align: right;\">\n",
       "      <th></th>\n",
       "      <th>train</th>\n",
       "      <th>test</th>\n",
       "      <th>final</th>\n",
       "    </tr>\n",
       "  </thead>\n",
       "  <tbody>\n",
       "    <tr>\n",
       "      <th>count</th>\n",
       "      <td>2197.000000</td>\n",
       "      <td>471.000000</td>\n",
       "      <td>471.000000</td>\n",
       "    </tr>\n",
       "    <tr>\n",
       "      <th>mean</th>\n",
       "      <td>2.870791</td>\n",
       "      <td>2.826476</td>\n",
       "      <td>3.042433</td>\n",
       "    </tr>\n",
       "    <tr>\n",
       "      <th>std</th>\n",
       "      <td>1.986789</td>\n",
       "      <td>1.880721</td>\n",
       "      <td>2.484606</td>\n",
       "    </tr>\n",
       "    <tr>\n",
       "      <th>min</th>\n",
       "      <td>0.000000</td>\n",
       "      <td>0.000000</td>\n",
       "      <td>0.000000</td>\n",
       "    </tr>\n",
       "    <tr>\n",
       "      <th>25%</th>\n",
       "      <td>1.666667</td>\n",
       "      <td>1.664414</td>\n",
       "      <td>1.666667</td>\n",
       "    </tr>\n",
       "    <tr>\n",
       "      <th>50%</th>\n",
       "      <td>2.428571</td>\n",
       "      <td>2.400000</td>\n",
       "      <td>2.428571</td>\n",
       "    </tr>\n",
       "    <tr>\n",
       "      <th>75%</th>\n",
       "      <td>3.500000</td>\n",
       "      <td>3.500000</td>\n",
       "      <td>3.454546</td>\n",
       "    </tr>\n",
       "    <tr>\n",
       "      <th>max</th>\n",
       "      <td>17.000001</td>\n",
       "      <td>15.000000</td>\n",
       "      <td>17.000001</td>\n",
       "    </tr>\n",
       "  </tbody>\n",
       "</table>\n",
       "</div>"
      ],
      "text/plain": [
       "             train        test       final\n",
       "count  2197.000000  471.000000  471.000000\n",
       "mean      2.870791    2.826476    3.042433\n",
       "std       1.986789    1.880721    2.484606\n",
       "min       0.000000    0.000000    0.000000\n",
       "25%       1.666667    1.664414    1.666667\n",
       "50%       2.428571    2.400000    2.428571\n",
       "75%       3.500000    3.500000    3.454546\n",
       "max      17.000001   15.000000   17.000001"
      ]
     },
     "execution_count": 7,
     "metadata": {},
     "output_type": "execute_result"
    }
   ],
   "source": [
    "y_stats = pd.DataFrame({'train': y_train.describe(),\n",
    "                         'test': y_test.describe(),\n",
    "                         'final': y_final.describe()})\n",
    "y_stats"
   ]
  },
  {
   "cell_type": "markdown",
   "metadata": {},
   "source": [
    "### Regressions on dataset before feature engineering\n",
    "I will start by calculating the RMSE of using the mean as the predicted value."
   ]
  },
  {
   "cell_type": "code",
   "execution_count": 8,
   "metadata": {},
   "outputs": [
    {
     "name": "stdout",
     "output_type": "stream",
     "text": [
      "1.8792459387068994\n"
     ]
    }
   ],
   "source": [
    "y_pred = np.full_like(y_test, y_train.mean())\n",
    "print(math.sqrt(mean_squared_error(y_test, y_pred)))"
   ]
  },
  {
   "cell_type": "markdown",
   "metadata": {},
   "source": [
    "As a baseline, I will start with simple linear regression and the regularized versions: lasso, ridge, and elastic net as well as random forest and gradient boosting."
   ]
  },
  {
   "cell_type": "code",
   "execution_count": 9,
   "metadata": {},
   "outputs": [
    {
     "name": "stdout",
     "output_type": "stream",
     "text": [
      "Linear 1.7751628028034354\n",
      "Lasso 1.789733030701339\n",
      "Ridge 1.7787517809491153\n",
      "Elastic Net 1.7846812885108256\n"
     ]
    }
   ],
   "source": [
    "linear = LinearRegression()\n",
    "lasso = LassoCV(alphas=[1e-2, 1e-1, 1, 10], cv=10)\n",
    "ridge = RidgeCV(alphas=[1e-3, 1e-2, 1e-1, 1, 10], cv=10)\n",
    "elastic = ElasticNetCV(l1_ratio=[.1, .5, .7, .9, .95, .99, 1], alphas=[1e-2, 1e-1, 1, 10], cv=10, n_jobs=-1)\n",
    "regs = {'Linear': linear, 'Lasso': lasso, 'Ridge': ridge, 'Elastic Net': elastic}\n",
    "\n",
    "for name, reg in regs.items():\n",
    "    reg.fit(X_lin_train, y_train)\n",
    "    print(name, rmse_score(reg, X_lin_test, y_test))"
   ]
  },
  {
   "cell_type": "code",
   "execution_count": 10,
   "metadata": {},
   "outputs": [
    {
     "name": "stdout",
     "output_type": "stream",
     "text": [
      "1.7631574399753207\n"
     ]
    }
   ],
   "source": [
    "rf = RandomForestRegressor(n_estimators=100, max_features='sqrt')\n",
    "rf.fit(X_train, y_train)\n",
    "print(rmse_score(rf, X_test, y_test))"
   ]
  },
  {
   "cell_type": "code",
   "execution_count": 11,
   "metadata": {},
   "outputs": [
    {
     "name": "stdout",
     "output_type": "stream",
     "text": [
      "1.7586215635526257\n"
     ]
    }
   ],
   "source": [
    "gb = GradientBoostingRegressor(max_features='sqrt', max_depth=1)\n",
    "gb.fit(X_train, y_train)\n",
    "print(rmse_score(gb, X_test, y_test))"
   ]
  },
  {
   "cell_type": "markdown",
   "metadata": {},
   "source": [
    "Smaller root mean squared errors (RMSE) are better, but there is no absolute scale to determine what a good RMSE is. I have found two ways people have used to assess RMSE scores. The first is to compare it to the standard deviation of the test set. The second is to compare it to the RMSE of using the mean of the train set as the predicted value. For this test set both are ~1.88. After looking at the math of these methods, I realized that these are the same equation excpet the first uses the mean of the test set and the second, the mean of the train set so the values should be similar.  \n",
    "With this method of determining goodness of fit, none of these models preform all that well, but the best is definietly gradient boosting."
   ]
  },
  {
   "cell_type": "markdown",
   "metadata": {},
   "source": [
    "### Feature selection and engineering\n",
    "#### Income features\n",
    "In the dataset there is a feature that contains the median household income in each county and there is also a set of features that represent the percentage of income tax filings in each of 8 ranges. I will investigate if these are interacting in a way that effects the fit of the models."
   ]
  },
  {
   "cell_type": "code",
   "execution_count": 12,
   "metadata": {},
   "outputs": [],
   "source": [
    "# Remove the household income column\n",
    "X_tax_train = X_train.loc[:, X_train.columns!='medhhinc15']\n",
    "X_tax_test = X_test.loc[:, X_test.columns!='medhhinc15']\n",
    "# Remove the tax bracket columns\n",
    "X_inc_train = X_train.drop(X_train.columns[14:22], axis=1)\n",
    "X_inc_test = X_test.drop(X_test.columns[14:22], axis=1)"
   ]
  },
  {
   "cell_type": "code",
   "execution_count": 13,
   "metadata": {},
   "outputs": [
    {
     "name": "stdout",
     "output_type": "stream",
     "text": [
      "1.750959130575095\n"
     ]
    }
   ],
   "source": [
    "gb1 = GradientBoostingRegressor(max_features='sqrt', max_depth=1)\n",
    "gb1.fit(X_tax_train, y_train)\n",
    "print(rmse_score(gb1, X_tax_test, y_test))"
   ]
  },
  {
   "cell_type": "code",
   "execution_count": 14,
   "metadata": {},
   "outputs": [
    {
     "name": "stdout",
     "output_type": "stream",
     "text": [
      "1.7590728607887856\n"
     ]
    }
   ],
   "source": [
    "gb2 = GradientBoostingRegressor(max_features='sqrt', max_depth=1)\n",
    "gb2.fit(X_inc_train, y_train)\n",
    "print(rmse_score(gb2, X_inc_test, y_test))"
   ]
  },
  {
   "cell_type": "markdown",
   "metadata": {},
   "source": [
    "These models perform similarly to the models with all of the features."
   ]
  },
  {
   "cell_type": "markdown",
   "metadata": {},
   "source": [
    "#### Interaction terms\n",
    "I will use the PolynomialFeatures function to create interaction terms as well as squares of the features."
   ]
  },
  {
   "cell_type": "code",
   "execution_count": 15,
   "metadata": {},
   "outputs": [],
   "source": [
    "poly = PolynomialFeatures(2)\n",
    "poly_X_train = poly.fit_transform(X_train.iloc[:, :22])\n",
    "poly_X_test = poly.transform(X_test.iloc[:, :22])\n",
    "X_poly_train = (pd.DataFrame(poly_X_train, columns=poly.get_feature_names(X_train.columns), index=X_train.index)\n",
    "               .merge(X_train.iloc[:, 22:], left_index=True, right_index=True))\n",
    "X_poly_test = (pd.DataFrame(poly_X_test, columns=poly.get_feature_names(X_test.columns), index=X_test.index)\n",
    "               .merge(X_test.iloc[:, 22:], left_index=True, right_index=True))"
   ]
  },
  {
   "cell_type": "code",
   "execution_count": 16,
   "metadata": {},
   "outputs": [
    {
     "name": "stdout",
     "output_type": "stream",
     "text": [
      "1.7665373345322435\n"
     ]
    }
   ],
   "source": [
    "gb3 = GradientBoostingRegressor(max_features='sqrt', max_depth=1)\n",
    "gb3.fit(X_poly_train, y_train)\n",
    "print(rmse_score(gb3, X_poly_test, y_test))"
   ]
  },
  {
   "cell_type": "markdown",
   "metadata": {},
   "source": [
    "This seems to have increased the RMSE so I will not use these features in the hyperparameter tuning."
   ]
  },
  {
   "cell_type": "markdown",
   "metadata": {},
   "source": [
    "### Hyperparameter tuning"
   ]
  },
  {
   "cell_type": "code",
   "execution_count": 17,
   "metadata": {},
   "outputs": [
    {
     "name": "stdout",
     "output_type": "stream",
     "text": [
      "1.789590227478346\n"
     ]
    }
   ],
   "source": [
    "parameters = {'n_estimators': [50, 100, 200],\n",
    "              'max_features': ['sqrt', 0.5, None],\n",
    "              'max_depth': [1, 3, 5]}\n",
    "gb_grid = GridSearchCV(GradientBoostingRegressor(), \n",
    "                       scoring={'MSE': make_scorer(mean_squared_error, greater_is_better=False)},\n",
    "                       param_grid=parameters, \n",
    "                       refit='MSE',\n",
    "                       cv=10, \n",
    "                       n_jobs=-1,\n",
    "                       iid=False)\n",
    "gb_grid.fit(X_train, y_train)\n",
    "print(rmse_score(gb_grid, X_test, y_test))"
   ]
  },
  {
   "cell_type": "code",
   "execution_count": 18,
   "metadata": {
    "scrolled": false
   },
   "outputs": [
    {
     "data": {
      "text/plain": [
       "[(1, 1.8678, {'max_depth': 3, 'max_features': 'sqrt', 'n_estimators': 50}),\n",
       " (2, 1.8766, {'max_depth': 3, 'max_features': 'sqrt', 'n_estimators': 100}),\n",
       " (3, 1.8779, {'max_depth': 1, 'max_features': 'sqrt', 'n_estimators': 200}),\n",
       " (4, 1.8781, {'max_depth': 5, 'max_features': 'sqrt', 'n_estimators': 50}),\n",
       " (5, 1.8834, {'max_depth': 1, 'max_features': 'sqrt', 'n_estimators': 100})]"
      ]
     },
     "execution_count": 18,
     "metadata": {},
     "output_type": "execute_result"
    }
   ],
   "source": [
    "sorted(list(zip(gb_grid.cv_results_['rank_test_MSE'], \n",
    "                np.sqrt(np.abs(gb_grid.cv_results_['mean_test_MSE'])).round(4), \n",
    "                gb_grid.cv_results_['params'])))[:5]"
   ]
  },
  {
   "cell_type": "markdown",
   "metadata": {},
   "source": [
    "The best max_features is clearly sqrt. The other two parameters are unclear."
   ]
  },
  {
   "cell_type": "code",
   "execution_count": 19,
   "metadata": {},
   "outputs": [
    {
     "name": "stdout",
     "output_type": "stream",
     "text": [
      "1.758618557214056\n"
     ]
    }
   ],
   "source": [
    "parameters = {'n_estimators': [50, 100, 200],\n",
    "              'max_depth': [1, 3, 5]}\n",
    "gb_grid = GridSearchCV(GradientBoostingRegressor(max_features='sqrt'), \n",
    "                       scoring={'MSE': make_scorer(mean_squared_error, greater_is_better=False)},\n",
    "                       param_grid=parameters,\n",
    "                       refit='MSE',\n",
    "                       cv=10, \n",
    "                       n_jobs=-1,\n",
    "                       iid=False)\n",
    "gb_grid.fit(X_train, y_train)\n",
    "print(rmse_score(gb_grid, X_test, y_test))"
   ]
  },
  {
   "cell_type": "code",
   "execution_count": 20,
   "metadata": {},
   "outputs": [
    {
     "data": {
      "text/plain": [
       "[(1, 1.863, {'max_depth': 3, 'n_estimators': 50}),\n",
       " (2, 1.8777, {'max_depth': 3, 'n_estimators': 100}),\n",
       " (3, 1.8779, {'max_depth': 3, 'n_estimators': 200}),\n",
       " (4, 1.8779, {'max_depth': 1, 'n_estimators': 200}),\n",
       " (5, 1.8848, {'max_depth': 5, 'n_estimators': 100}),\n",
       " (6, 1.8886, {'max_depth': 1, 'n_estimators': 100}),\n",
       " (7, 1.8918, {'max_depth': 5, 'n_estimators': 50}),\n",
       " (8, 1.902, {'max_depth': 1, 'n_estimators': 50}),\n",
       " (9, 1.9258, {'max_depth': 5, 'n_estimators': 200})]"
      ]
     },
     "execution_count": 20,
     "metadata": {},
     "output_type": "execute_result"
    }
   ],
   "source": [
    "sorted(list(zip(gb_grid.cv_results_['rank_test_MSE'], \n",
    "                np.sqrt(np.abs(gb_grid.cv_results_['mean_test_MSE'])).round(4), \n",
    "                gb_grid.cv_results_['params'])))"
   ]
  },
  {
   "cell_type": "markdown",
   "metadata": {},
   "source": [
    "It appears that a max depth of 3 is best and that fewer estimators is better for this value."
   ]
  },
  {
   "cell_type": "code",
   "execution_count": 21,
   "metadata": {},
   "outputs": [
    {
     "name": "stdout",
     "output_type": "stream",
     "text": [
      "1.7796944809462725\n"
     ]
    }
   ],
   "source": [
    "parameters = {'n_estimators': [20, 50, 100]}\n",
    "gb_grid = GridSearchCV(GradientBoostingRegressor(max_features='sqrt', max_depth=3), \n",
    "                       scoring={'MSE': make_scorer(mean_squared_error, greater_is_better=False)},\n",
    "                       param_grid=parameters,\n",
    "                       refit='MSE',\n",
    "                       cv=10, \n",
    "                       n_jobs=-1,\n",
    "                       iid=False)\n",
    "gb_grid.fit(X_train, y_train)\n",
    "print(rmse_score(gb_grid, X_test, y_test))"
   ]
  },
  {
   "cell_type": "code",
   "execution_count": 22,
   "metadata": {},
   "outputs": [
    {
     "data": {
      "text/plain": [
       "[(1, 1.8674, {'n_estimators': 50}),\n",
       " (2, 1.874, {'n_estimators': 100}),\n",
       " (3, 1.8971, {'n_estimators': 20})]"
      ]
     },
     "execution_count": 22,
     "metadata": {},
     "output_type": "execute_result"
    }
   ],
   "source": [
    "sorted(list(zip(gb_grid.cv_results_['rank_test_MSE'], \n",
    "                np.sqrt(np.abs(gb_grid.cv_results_['mean_test_MSE'])).round(4), \n",
    "                gb_grid.cv_results_['params'])))"
   ]
  },
  {
   "cell_type": "markdown",
   "metadata": {},
   "source": [
    "### Evaluating model\n",
    "I will use Yellowbrick's ResidualsPlot function to look at the distribution of residuals vs predicted values."
   ]
  },
  {
   "cell_type": "code",
   "execution_count": 23,
   "metadata": {},
   "outputs": [
    {
     "data": {
      "image/png": "[encoded data removed]",
      "text/plain": [
       "<Figure size 432x288 with 2 Axes>"
      ]
     },
     "metadata": {
      "needs_background": "light"
     },
     "output_type": "display_data"
    }
   ],
   "source": [
    "visualizer = ResidualsPlot(gb_grid.best_estimator_)\n",
    "visualizer.fit(X_train, y_train)\n",
    "visualizer.score(X_test, y_test)\n",
    "visualizer.poof()"
   ]
  },
  {
   "cell_type": "markdown",
   "metadata": {},
   "source": [
    "Even though this model is more likely to over-predict the convenience to grocery store ratio, the largest residuals are from very large under-predictions."
   ]
  },
  {
   "cell_type": "markdown",
   "metadata": {},
   "source": [
    "Throughout this analysis, I have been using test data to compare models. Now that I am done comparing models, I will use the final holdout set to evaluate the final model."
   ]
  },
  {
   "cell_type": "code",
   "execution_count": 24,
   "metadata": {},
   "outputs": [
    {
     "name": "stdout",
     "output_type": "stream",
     "text": [
      "2.4878948152705957\n"
     ]
    }
   ],
   "source": [
    "y_pred = np.full_like(y_final, y_train.mean())\n",
    "print(math.sqrt(mean_squared_error(y_final, y_pred)))"
   ]
  },
  {
   "cell_type": "code",
   "execution_count": 25,
   "metadata": {},
   "outputs": [
    {
     "data": {
      "text/plain": [
       "2.3284798827668083"
      ]
     },
     "execution_count": 25,
     "metadata": {},
     "output_type": "execute_result"
    }
   ],
   "source": [
    "rmse_score(gb_grid.best_estimator_, X_final, y_final)"
   ]
  },
  {
   "cell_type": "code",
   "execution_count": 26,
   "metadata": {},
   "outputs": [
    {
     "data": {
      "text/plain": [
       "2.4846058600714493"
      ]
     },
     "execution_count": 26,
     "metadata": {},
     "output_type": "execute_result"
    }
   ],
   "source": [
    "y_final.std()"
   ]
  },
  {
   "cell_type": "markdown",
   "metadata": {},
   "source": [
    "This RMSE appears to be much worse, but as a percent of the standard deviation, theRMSE is similar to that of the test set.  \n",
    "I will look at the reiduals plot for this test set as well."
   ]
  },
  {
   "cell_type": "code",
   "execution_count": 27,
   "metadata": {},
   "outputs": [
    {
     "data": {
      "image/png": "[encoded data removed]",
      "text/plain": [
       "<Figure size 432x288 with 2 Axes>"
      ]
     },
     "metadata": {
      "needs_background": "light"
     },
     "output_type": "display_data"
    }
   ],
   "source": [
    "visualizer = ResidualsPlot(gb_grid.best_estimator_)\n",
    "visualizer.fit(X_train, y_train)\n",
    "visualizer.score(X_final, y_final)\n",
    "visualizer.poof()"
   ]
  },
  {
   "cell_type": "markdown",
   "metadata": {},
   "source": [
    "Even though the RMSE is much worse for the 'final' holdout set compared to the 'test' holdout, the $R^2$ value and distribution of residuals is similar. The difference appears to be that the 'final' holdout set contains more counties where this model under-predicts by a wide margin."
   ]
  },
  {
   "cell_type": "code",
   "execution_count": 28,
   "metadata": {},
   "outputs": [],
   "source": [
    "y_pred = gb_grid.best_estimator_.predict(X)\n",
    "y_pred = pd.DataFrame(y_pred, index=y.index)\n",
    "predictions = pd.DataFrame(y).join(y_pred)\n",
    "predictions.columns = ['y_true', 'y_pred']\n",
    "predictions['residuals'] = predictions['y_pred'] - predictions['y_true']\n",
    "predictions.to_csv('Data/predictions.csv')"
   ]
  }
 ],
 "metadata": {
  "kernelspec": {
   "display_name": "Python 3",
   "language": "python",
   "name": "python3"
  },
  "language_info": {
   "codemirror_mode": {
    "name": "ipython",
    "version": 3
   },
   "file_extension": ".py",
   "mimetype": "text/x-python",
   "name": "python",
   "nbconvert_exporter": "python",
   "pygments_lexer": "ipython3",
   "version": "3.7.3"
  }
 },
 "nbformat": 4,
 "nbformat_minor": 2
}
