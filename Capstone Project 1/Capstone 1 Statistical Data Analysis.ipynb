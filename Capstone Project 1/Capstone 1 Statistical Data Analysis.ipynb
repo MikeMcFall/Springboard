{
 "cells": [
  {
   "cell_type": "markdown",
   "metadata": {},
   "source": [
    "### Statistical Data Analysis\n",
    "In the data story section of this project, I investigated correlations between variables and found many. In this section I will look for differences betweeen subgroups."
   ]
  },
  {
   "cell_type": "code",
   "execution_count": 1,
   "metadata": {},
   "outputs": [],
   "source": [
    "import pandas as pd\n",
    "import numpy as np\n",
    "import matplotlib.pyplot as plt\n",
    "from scipy.stats import ttest_ind"
   ]
  },
  {
   "cell_type": "code",
   "execution_count": 2,
   "metadata": {},
   "outputs": [],
   "source": [
    "# In the first part of this project, I merged and cleaned the data I found and saved it as 'capstone1_data.pkl'\n",
    "df = pd.read_pickle('Data/capstone1_data.pkl')"
   ]
  },
  {
   "cell_type": "code",
   "execution_count": 3,
   "metadata": {},
   "outputs": [
    {
     "data": {
      "text/html": [
       "<div>\n",
       "<style scoped>\n",
       "    .dataframe tbody tr th:only-of-type {\n",
       "        vertical-align: middle;\n",
       "    }\n",
       "\n",
       "    .dataframe tbody tr th {\n",
       "        vertical-align: top;\n",
       "    }\n",
       "\n",
       "    .dataframe thead th {\n",
       "        text-align: right;\n",
       "    }\n",
       "</style>\n",
       "<table border=\"1\" class=\"dataframe\">\n",
       "  <thead>\n",
       "    <tr style=\"text-align: right;\">\n",
       "      <th></th>\n",
       "      <th></th>\n",
       "      <th></th>\n",
       "      <th>perpov10</th>\n",
       "      <th>perchldpov10</th>\n",
       "      <th>metro13</th>\n",
       "      <th>poploss10</th>\n",
       "    </tr>\n",
       "    <tr>\n",
       "      <th>State</th>\n",
       "      <th>County</th>\n",
       "      <th>FIPS</th>\n",
       "      <th></th>\n",
       "      <th></th>\n",
       "      <th></th>\n",
       "      <th></th>\n",
       "    </tr>\n",
       "  </thead>\n",
       "  <tbody>\n",
       "    <tr>\n",
       "      <th rowspan=\"5\" valign=\"top\">Alabama</th>\n",
       "      <th>Autauga</th>\n",
       "      <th>1001</th>\n",
       "      <td>0.0</td>\n",
       "      <td>0.0</td>\n",
       "      <td>1.0</td>\n",
       "      <td>0.0</td>\n",
       "    </tr>\n",
       "    <tr>\n",
       "      <th>Baldwin</th>\n",
       "      <th>1003</th>\n",
       "      <td>0.0</td>\n",
       "      <td>0.0</td>\n",
       "      <td>1.0</td>\n",
       "      <td>0.0</td>\n",
       "    </tr>\n",
       "    <tr>\n",
       "      <th>Barbour</th>\n",
       "      <th>1005</th>\n",
       "      <td>1.0</td>\n",
       "      <td>1.0</td>\n",
       "      <td>0.0</td>\n",
       "      <td>0.0</td>\n",
       "    </tr>\n",
       "    <tr>\n",
       "      <th>Bibb</th>\n",
       "      <th>1007</th>\n",
       "      <td>0.0</td>\n",
       "      <td>1.0</td>\n",
       "      <td>1.0</td>\n",
       "      <td>0.0</td>\n",
       "    </tr>\n",
       "    <tr>\n",
       "      <th>Blount</th>\n",
       "      <th>1009</th>\n",
       "      <td>0.0</td>\n",
       "      <td>0.0</td>\n",
       "      <td>1.0</td>\n",
       "      <td>0.0</td>\n",
       "    </tr>\n",
       "  </tbody>\n",
       "</table>\n",
       "</div>"
      ],
      "text/plain": [
       "                     perpov10 perchldpov10 metro13 poploss10\n",
       "State   County  FIPS                                        \n",
       "Alabama Autauga 1001      0.0          0.0     1.0       0.0\n",
       "        Baldwin 1003      0.0          0.0     1.0       0.0\n",
       "        Barbour 1005      1.0          1.0     0.0       0.0\n",
       "        Bibb    1007      0.0          1.0     1.0       0.0\n",
       "        Blount  1009      0.0          0.0     1.0       0.0"
      ]
     },
     "execution_count": 3,
     "metadata": {},
     "output_type": "execute_result"
    }
   ],
   "source": [
    "df.loc[:, df.dtypes == 'category'].head()"
   ]
  },
  {
   "cell_type": "code",
   "execution_count": 4,
   "metadata": {},
   "outputs": [],
   "source": [
    "# DataCamp bootstrap functions\n",
    "def bootstrap_replicate_1d(data, func):\n",
    "    return func(np.random.choice(data, size=len(data)))\n",
    "\n",
    "def draw_bs_reps(data, func, size=1):\n",
    "    \"\"\"Draw bootstrap replicates.\"\"\"\n",
    "\n",
    "    # Initialize array of replicates: bs_replicates\n",
    "    bs_replicates = np.empty(size)\n",
    "\n",
    "    # Generate replicates\n",
    "    for i in range(size):\n",
    "        bs_replicates[i] = bootstrap_replicate_1d(data, func)\n",
    "\n",
    "    return bs_replicates"
   ]
  },
  {
   "cell_type": "code",
   "execution_count": 5,
   "metadata": {},
   "outputs": [],
   "source": [
    "# My bootstrap function\n",
    "def compare(data1, data2, func, confidence=95, size=1):\n",
    "    bs1 = draw_bs_reps(data1, func, size)\n",
    "    bs2 = draw_bs_reps(data2, func, size)\n",
    "    bs_diff = bs2 - bs1\n",
    "    bs_confidence = np.percentile(bs_diff, [(100-confidence)/2, 95 + (100-confidence)/2])\n",
    "    measured_diff = func(bs2) - func(bs1)\n",
    "    \n",
    "    return {'measured': measured_diff, 'bs_low': bs_confidence[0], 'bs_high': bs_confidence[1], 'bootstrap': bs_diff}"
   ]
  },
  {
   "cell_type": "code",
   "execution_count": 6,
   "metadata": {},
   "outputs": [
    {
     "name": "stdout",
     "output_type": "stream",
     "text": [
      "perpov10 [0.7364654949125558, 0.5260029876400372, 0.9534180821563606]\n",
      "perchldpov10 [0.6956040158930263, 0.5428248648358392, 0.8472813437591638]\n",
      "metro13 [0.024617031533499478, -0.0956860583393435, 0.14124155333963917]\n",
      "poploss10 [-0.6199780781430371, -0.7654485843663876, -0.4715944326054011]\n"
     ]
    }
   ],
   "source": [
    "categorical_columns = df.loc[:, df.dtypes == 'category'].columns\n",
    "bootstrap_categorical = {}\n",
    "for col in categorical_columns:\n",
    "    bootstrap_categorical[col] = compare(df.loc[df[col] == 0, 'conv_to_groc'].dropna(),\n",
    "                                         df.loc[df[col] == 1, 'conv_to_groc'].dropna(),\n",
    "                                         np.mean,\n",
    "                                         95,\n",
    "                                         10000)\n",
    "    print(col, list(bootstrap_categorical[col][x] for x in ['measured', 'bs_low', 'bs_high']))"
   ]
  },
  {
   "cell_type": "markdown",
   "metadata": {},
   "source": [
    "If the confidence interval overlaps 0 like for metro13, there is no significant difference. The subgroups of the other three variables, however, do have a significant difference in the mean ratio of convenience to grocery stores."
   ]
  },
  {
   "cell_type": "code",
   "execution_count": 7,
   "metadata": {},
   "outputs": [
    {
     "name": "stdout",
     "output_type": "stream",
     "text": [
      "perpov10 6.6957610254369275e-15\n",
      "perchldpov10 7.103099669424847e-23\n",
      "metro13 0.6830454548523173\n",
      "poploss10 8.291778807438015e-15\n"
     ]
    }
   ],
   "source": [
    "for col in categorical_columns:\n",
    "    print(col, ttest_ind(df.loc[df[col] == 0, 'conv_to_groc'].dropna(),\n",
    "                    df.loc[df[col] == 1, 'conv_to_groc'].dropna())[1])"
   ]
  },
  {
   "cell_type": "markdown",
   "metadata": {},
   "source": [
    "The t-test gives the same result as bootstrapping a 95% confidence interval."
   ]
  },
  {
   "cell_type": "code",
   "execution_count": 8,
   "metadata": {},
   "outputs": [
    {
     "data": {
      "text/plain": [
       "<matplotlib.lines.Line2D at 0x1ec7de2d828>"
      ]
     },
     "execution_count": 8,
     "metadata": {},
     "output_type": "execute_result"
    },
    {
     "data": {
      "image/png": "[encoded data removed]",
      "text/plain": [
       "<Figure size 360x360 with 1 Axes>"
      ]
     },
     "metadata": {
      "needs_background": "light"
     },
     "output_type": "display_data"
    }
   ],
   "source": [
    "bs_cat = pd.DataFrame(bootstrap_categorical).transpose()\n",
    "errors = np.array(list(zip(abs(bs_cat['bs_high']-bs_cat['measured']), abs(bs_cat['bs_low']-bs_cat['measured'])))).transpose()\n",
    "plt.figure(figsize=(5,5))\n",
    "plt.barh(bs_cat.index, bs_cat['measured'], xerr=errors, color='white')\n",
    "plt.axvline(0)"
   ]
  },
  {
   "cell_type": "code",
   "execution_count": 9,
   "metadata": {},
   "outputs": [
    {
     "name": "stdout",
     "output_type": "stream",
     "text": [
      "perpov10 [13.221165912702796, 12.584948497222527, 13.876804962864862]\n",
      "perchldpov10 [10.408728444080392, 9.927212606639813, 10.883217927423795]\n"
     ]
    }
   ],
   "source": [
    "categorical_columns = ['perpov10', 'perchldpov10']\n",
    "bootstrap_categorical = {}\n",
    "for col in categorical_columns:\n",
    "    bootstrap_categorical[col] = compare(df.loc[df[col] == 0, 'povrate15'].dropna(),\n",
    "                                         df.loc[df[col] == 1, 'povrate15'].dropna(),\n",
    "                                         np.mean,\n",
    "                                         95,\n",
    "                                         10000)\n",
    "    print(col, list(bootstrap_categorical[col][x] for x in ['measured', 'bs_low', 'bs_high']))"
   ]
  },
  {
   "cell_type": "code",
   "execution_count": 10,
   "metadata": {},
   "outputs": [
    {
     "name": "stdout",
     "output_type": "stream",
     "text": [
      "perpov10 [12.200000000000001, 11.399999999999999, 13.099999999999998]\n",
      "perchldpov10 [9.799999999999999, 9.2, 10.399999999999999]\n"
     ]
    }
   ],
   "source": [
    "categorical_columns = ['perpov10', 'perchldpov10']\n",
    "bootstrap_categorical = {}\n",
    "for col in categorical_columns:\n",
    "    bootstrap_categorical[col] = compare(df.loc[df[col] == 0, 'povrate15'].dropna(),\n",
    "                                         df.loc[df[col] == 1, 'povrate15'].dropna(),\n",
    "                                         np.median,\n",
    "                                         95,\n",
    "                                         10000)\n",
    "    print(col, list(bootstrap_categorical[col][x] for x in ['measured', 'bs_low', 'bs_high']))"
   ]
  },
  {
   "cell_type": "code",
   "execution_count": 11,
   "metadata": {},
   "outputs": [
    {
     "data": {
      "text/plain": [
       "array([[2426,  362],\n",
       "       [   7,  344]], dtype=int64)"
      ]
     },
     "execution_count": 11,
     "metadata": {},
     "output_type": "execute_result"
    }
   ],
   "source": [
    "from sklearn.metrics import confusion_matrix\n",
    "confusion_matrix(df['perpov10'], df['perchldpov10'])"
   ]
  },
  {
   "cell_type": "markdown",
   "metadata": {},
   "source": [
    "Very often both 'perpov10' and 'perchldpov10' are both 0.  \n",
    "If 'perchldpov10' is 1, there is ~50% chance that 'perpov10' is 1 as well.  \n",
    "If 'perpov10' is 1, there is ~98% chance that 'perchldpov10' is 1 as well."
   ]
  }
 ],
 "metadata": {
  "kernelspec": {
   "display_name": "Python 3",
   "language": "python",
   "name": "python3"
  },
  "language_info": {
   "codemirror_mode": {
    "name": "ipython",
    "version": 3
   },
   "file_extension": ".py",
   "mimetype": "text/x-python",
   "name": "python",
   "nbconvert_exporter": "python",
   "pygments_lexer": "ipython3",
   "version": "3.7.3"
  }
 },
 "nbformat": 4,
 "nbformat_minor": 2
}
